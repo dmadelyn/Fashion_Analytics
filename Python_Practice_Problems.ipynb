{
  "nbformat": 4,
  "nbformat_minor": 0,
  "metadata": {
    "colab": {
      "provenance": [],
      "authorship_tag": "ABX9TyO5usn6jOztUdjO7pOpiOAj",
      "include_colab_link": true
    },
    "kernelspec": {
      "name": "python3",
      "display_name": "Python 3"
    },
    "language_info": {
      "name": "python"
    }
  },
  "cells": [
    {
      "cell_type": "markdown",
      "metadata": {
        "id": "view-in-github",
        "colab_type": "text"
      },
      "source": [
        "<a href=\"https://colab.research.google.com/github/dmadelyn/Fashion_Analytics/blob/main/Python_Practice_Problems.ipynb\" target=\"_parent\"><img src=\"https://colab.research.google.com/assets/colab-badge.svg\" alt=\"Open In Colab\"/></a>"
      ]
    },
    {
      "cell_type": "markdown",
      "source": [],
      "metadata": {
        "id": "AQQUUoQeeA7n"
      }
    },
    {
      "cell_type": "markdown",
      "source": [
        "# Minimum deletions to make string balanced - Medium\n",
        "\n",
        "* string\n",
        "* dynamic programming\n",
        "* stack"
      ],
      "metadata": {
        "id": "RJjWdF0AeCv-"
      }
    },
    {
      "cell_type": "code",
      "execution_count": null,
      "metadata": {
        "colab": {
          "base_uri": "https://localhost:8080/"
        },
        "id": "Lsa34Q57d92E",
        "outputId": "c1d1d0eb-6c92-4263-ebb0-0934a7dc67be"
      },
      "outputs": [
        {
          "output_type": "stream",
          "name": "stdout",
          "text": [
            "2\n"
          ]
        }
      ],
      "source": [
        " def minimumDeletions(s: str) -> int:\n",
        "        # any b's before the first a must be deleted unless no a's\n",
        "        # at each step we either keep or delete\n",
        "\n",
        "\n",
        "        # maintain a count of number of a's, dynamic count of b's, find min\n",
        "        a_count = sum(1 for ch in s if ch == \"a\")\n",
        "        b_count = 0\n",
        "        min_deletions = len(s)\n",
        "\n",
        "        for i in range(len(s)):\n",
        "            if s[i] == \"a\":\n",
        "                a_count -= 1\n",
        "            min_deletions = min(min_deletions, a_count + b_count)\n",
        "            if s[i] == \"b\":\n",
        "                b_count += 1\n",
        "\n",
        "        return min_deletions\n",
        "\n",
        "\n",
        "s = \"aababbab\"\n",
        "print(minimumDeletions(s))"
      ]
    }
  ]
}